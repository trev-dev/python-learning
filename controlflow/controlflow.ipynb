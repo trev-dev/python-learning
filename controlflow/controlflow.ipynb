{
 "cells": [
  {
   "cell_type": "markdown",
   "metadata": {
    "slideshow": {
     "slide_type": "slide"
    }
   },
   "source": [
    "# Control Flow"
   ]
  },
  {
   "cell_type": "markdown",
   "metadata": {
    "slideshow": {
     "slide_type": "fragment"
    }
   },
   "source": [
    "Control flow is how we handle logic in programming. Without it, we would just have a bunch of data that doesn't really _do anything_. You may have heard that computers are just binary and made up of \"ones and zeroes\". This isn't that far from the truth!\n",
    "\n",
    "All things in logic programming can be boiled down to one or zero or \"True or False\". "
   ]
  },
  {
   "cell_type": "markdown",
   "metadata": {
    "slideshow": {
     "slide_type": "slide"
    }
   },
   "source": [
    "## Evaluating Data\n",
    "As we covered in the data types module, we can evaluate data to arrive at a \"True\" or \"False\" conclusion with the use of keywords and operators. Let's start with operators."
   ]
  },
  {
   "cell_type": "markdown",
   "metadata": {
    "slideshow": {
     "slide_type": "fragment"
    }
   },
   "source": [
    "Operators test two pieces of data to evaluate whether the test is True or False.\n",
    "* **==** Test for equality, or whether or not two pieces of data are the same\n",
    "* **!=** Test for _inequality_, or whether the data is not the same\n",
    "* **\\>** or **<** Test if something is greater than or less than the other\n",
    "* **\\>=** or **<=** Test if somethings greater than/less than or _equal_ to the other.\n",
    "* **not** Reverses/flips an operator on its head. (Check for not True or not False)."
   ]
  },
  {
   "cell_type": "markdown",
   "metadata": {
    "slideshow": {
     "slide_type": "slide"
    }
   },
   "source": [
    "Lets take a look at some examples."
   ]
  },
  {
   "cell_type": "code",
   "execution_count": 2,
   "metadata": {
    "slideshow": {
     "slide_type": "fragment"
    }
   },
   "outputs": [
    {
     "name": "stdout",
     "output_type": "stream",
     "text": [
      "True\n"
     ]
    }
   ],
   "source": [
    "is_greater = 3 > 2\n",
    "print(is_greater)"
   ]
  },
  {
   "cell_type": "code",
   "execution_count": 3,
   "metadata": {
    "slideshow": {
     "slide_type": "fragment"
    }
   },
   "outputs": [
    {
     "name": "stdout",
     "output_type": "stream",
     "text": [
      "False\n"
     ]
    }
   ],
   "source": [
    "user = 'Trevor'\n",
    "admin = 'Guido'\n",
    "\n",
    "is_authorized = user == admin\n",
    "print(is_authorized)"
   ]
  },
  {
   "cell_type": "code",
   "execution_count": 5,
   "metadata": {
    "slideshow": {
     "slide_type": "fragment"
    }
   },
   "outputs": [
    {
     "name": "stdout",
     "output_type": "stream",
     "text": [
      "True\n"
     ]
    }
   ],
   "source": [
    "color = 'blue'\n",
    "\n",
    "not_red = color != 'red'\n",
    "print(not_red)"
   ]
  },
  {
   "cell_type": "markdown",
   "metadata": {
    "slideshow": {
     "slide_type": "slide"
    }
   },
   "source": [
    "The values \"True\" or \"False\" aren't the only values that can be interpreted as True or False. Some \"empty\" data values can also be interpreted as \"Falsy\" and may be evaluated against. Some of these data types haven't been covered yet, so don't worry if they look unfamiliar."
   ]
  },
  {
   "cell_type": "markdown",
   "metadata": {
    "slideshow": {
     "slide_type": "fragment"
    }
   },
   "source": [
    "* **0**\n",
    "* **0.0**\n",
    "* **''** (empty string)\n",
    "* **[]** (empty list)\n",
    "* **{}** (empty dictionary)\n",
    "* **b''** (empty bytes)\n",
    "* **set()** (an empty set)\n",
    "\n",
    "In short, most empty values will test as _False_"
   ]
  },
  {
   "cell_type": "markdown",
   "metadata": {
    "slideshow": {
     "slide_type": "slide"
    }
   },
   "source": [
    "## Keywords\n",
    "There are keywords all throughout Python that allow us to perform operations. In the context of control flow, keywords are everything. When paired with evaluations, we can arrive at useful conclusions. Take the \"if/else\" keywords for example:"
   ]
  },
  {
   "cell_type": "code",
   "execution_count": 7,
   "metadata": {
    "slideshow": {
     "slide_type": "fragment"
    }
   },
   "outputs": [
    {
     "name": "stdout",
     "output_type": "stream",
     "text": [
      "Not Authorized\n"
     ]
    }
   ],
   "source": [
    "admin = 'Guido'\n",
    "user = 'Trevor'\n",
    "\n",
    "if user == admin:\n",
    "    print('User Authorized')\n",
    "else:\n",
    "    print('Not Authorized')"
   ]
  },
  {
   "cell_type": "code",
   "execution_count": 9,
   "metadata": {
    "slideshow": {
     "slide_type": "fragment"
    }
   },
   "outputs": [
    {
     "name": "stdout",
     "output_type": "stream",
     "text": [
      "How old are you? 21\n",
      "Here's a beer!\n"
     ]
    }
   ],
   "source": [
    "min_age = 21\n",
    "user_age = int(input('How old are you? '))\n",
    "\n",
    "if user_age >= min_age:\n",
    "    print('Here\\'s a beer!')\n",
    "else:\n",
    "    print('Here\\'s a cola!')"
   ]
  },
  {
   "cell_type": "markdown",
   "metadata": {
    "slideshow": {
     "slide_type": "slide"
    }
   },
   "source": [
    "We can use the \"elif\" (else-if) keyword to test conditions in order of _priority_ in a case where we're looking at several expected situations. If none of the situations end up being \"truthy\", then we can use the _else_ keyword to perform a default operation."
   ]
  },
  {
   "cell_type": "code",
   "execution_count": 10,
   "metadata": {
    "slideshow": {
     "slide_type": "fragment"
    }
   },
   "outputs": [
    {
     "name": "stdout",
     "output_type": "stream",
     "text": [
      "We need more donuts!\n"
     ]
    }
   ],
   "source": [
    "donuts = 3\n",
    "required_donuts = 13\n",
    "\n",
    "if donuts < required_donuts:\n",
    "    print('We need more donuts!')\n",
    "elif donuts > required_donuts:\n",
    "    print('We have too many donuts!!')\n",
    "else:\n",
    "    print('We have a perfect number of donuts.')"
   ]
  },
  {
   "cell_type": "markdown",
   "metadata": {
    "slideshow": {
     "slide_type": "slide"
    }
   },
   "source": [
    "We can chain operators together with the _and_ or the _or_ keyword to do multiple checks on one line."
   ]
  },
  {
   "cell_type": "code",
   "execution_count": 13,
   "metadata": {
    "slideshow": {
     "slide_type": "fragment"
    }
   },
   "outputs": [
    {
     "name": "stdout",
     "output_type": "stream",
     "text": [
      "We have no donuts!!\n"
     ]
    }
   ],
   "source": [
    "donuts = 0\n",
    "required_donuts = 13\n",
    "\n",
    "if not donuts:\n",
    "    print('We have no donuts!!')\n",
    "elif donuts < required_donuts or donuts > required_donuts:\n",
    "    print('We have the wrong number of donuts!')\n",
    "else:\n",
    "    print('We have the perfect number of donuts')"
   ]
  },
  {
   "cell_type": "markdown",
   "metadata": {
    "slideshow": {
     "slide_type": "slide"
    }
   },
   "source": [
    "Important Note: _Order is important!_ Python will interpret code from top to down, left to right. It's important that we order our logic in such a way that all of our cases get evaluated. \n",
    "\n",
    "If we move the _not donuts_ check down below the first _elif_ check, it would _never get evaluated_."
   ]
  },
  {
   "cell_type": "code",
   "execution_count": 15,
   "metadata": {
    "slideshow": {
     "slide_type": "fragment"
    }
   },
   "outputs": [
    {
     "name": "stdout",
     "output_type": "stream",
     "text": [
      "We have the wrong number of donuts!\n"
     ]
    }
   ],
   "source": [
    "donuts = 0\n",
    "required_donuts = 13\n",
    "\n",
    "if donuts < required_donuts or donuts > required_donuts:\n",
    "    print('We have the wrong number of donuts!')\n",
    "elif not donuts:\n",
    "    ## This will never run as the previous check will trigger on 0 donuts as well.\n",
    "    print('We have no donuts!!')\n",
    "else:\n",
    "    print('We have the perfect number of donuts')"
   ]
  },
  {
   "cell_type": "markdown",
   "metadata": {
    "slideshow": {
     "slide_type": "slide"
    }
   },
   "source": [
    "We can also use the _and_ keyword in order to require _multiple_ conditions for a check."
   ]
  },
  {
   "cell_type": "code",
   "execution_count": 16,
   "metadata": {
    "slideshow": {
     "slide_type": "fragment"
    }
   },
   "outputs": [
    {
     "name": "stdout",
     "output_type": "stream",
     "text": [
      "Sorry, come back later\n"
     ]
    }
   ],
   "source": [
    "age = 8\n",
    "# in centimeters\n",
    "height = 121.92\n",
    "\n",
    "if age > 10 and height > 130:\n",
    "    print('You may go on the ride')\n",
    "else:\n",
    "    print('Sorry, come back later')"
   ]
  },
  {
   "cell_type": "markdown",
   "metadata": {
    "slideshow": {
     "slide_type": "slide"
    }
   },
   "source": [
    "## Let's Practice"
   ]
  },
  {
   "cell_type": "markdown",
   "metadata": {
    "slideshow": {
     "slide_type": "fragment"
    }
   },
   "source": [
    "* Create a list of menu options"
   ]
  },
  {
   "cell_type": "markdown",
   "metadata": {
    "slideshow": {
     "slide_type": "fragment"
    }
   },
   "source": [
    "* Use the input function which takes a string and returns whatever was entered."
   ]
  },
  {
   "cell_type": "code",
   "execution_count": 2,
   "metadata": {
    "slideshow": {
     "slide_type": "fragment"
    }
   },
   "outputs": [
    {
     "name": "stdout",
     "output_type": "stream",
     "text": [
      "Select an option: 1\n",
      "1\n"
     ]
    }
   ],
   "source": [
    "inp = input('Select an option: ')\n",
    "print(inp)"
   ]
  },
  {
   "cell_type": "markdown",
   "metadata": {
    "slideshow": {
     "slide_type": "fragment"
    }
   },
   "source": [
    "* Print something different depending on whatever option was chosen. "
   ]
  }
 ],
 "metadata": {
  "celltoolbar": "Slideshow",
  "kernelspec": {
   "display_name": "Python 3",
   "language": "python",
   "name": "python3"
  },
  "language_info": {
   "codemirror_mode": {
    "name": "ipython",
    "version": 3
   },
   "file_extension": ".py",
   "mimetype": "text/x-python",
   "name": "python",
   "nbconvert_exporter": "python",
   "pygments_lexer": "ipython3",
   "version": "3.7.4"
  }
 },
 "nbformat": 4,
 "nbformat_minor": 2
}
