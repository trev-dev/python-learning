{
 "cells": [
  {
   "cell_type": "markdown",
   "metadata": {
    "slideshow": {
     "slide_type": "slide"
    }
   },
   "source": [
    "# What is Python?"
   ]
  },
  {
   "cell_type": "markdown",
   "metadata": {
    "slideshow": {
     "slide_type": "fragment"
    }
   },
   "source": [
    "Straight from the horse's mouth:\n",
    "Python is an interpreted, object-oriented, high-level programming language with dynamic semantics. Its high-level built in data structures, combined with dynamic typing and dynamic binding, make it very attractive for Rapid Application Development, as well as for use as a scripting or glue language to connect existing components together."
   ]
  },
  {
   "cell_type": "markdown",
   "metadata": {
    "slideshow": {
     "slide_type": "slide"
    }
   },
   "source": [
    "## What the heck does that all mean?\n",
    "Some of us aren't programmers (yet!), so lets boil it down to simpler terms:"
   ]
  },
  {
   "cell_type": "markdown",
   "metadata": {
    "slideshow": {
     "slide_type": "fragment"
    }
   },
   "source": [
    "* Python is _Interpreted_. This means that the code is compiled in _real time_ while it runs. We don't have to compile our language into machine-readable code before running the program."
   ]
  },
  {
   "cell_type": "markdown",
   "metadata": {
    "slideshow": {
     "slide_type": "fragment"
    }
   },
   "source": [
    "* Python is _Object Oriented_ - meaning everything in Python is an _object_. In programming context this means anything in Python can be made modular, passed around and re-used."
   ]
  },
  {
   "cell_type": "markdown",
   "metadata": {
    "slideshow": {
     "slide_type": "fragment"
    }
   },
   "source": [
    "* Python is _high level_, has _dynamic typing/binding_ and _built-in data structures_ - This is all jargon for \"Python takes the minutia out of programming in low-level languages\". It handles a lot of what you'd have to consider behind the scenes for you by being \"highly abstracted\". The higher the abstraction, the easier it is for humans to handle."
   ]
  },
  {
   "cell_type": "markdown",
   "metadata": {
    "slideshow": {
     "slide_type": "slide"
    }
   },
   "source": [
    "## Why use Python?\n",
    "Python is abundant and already installed on nearly every system. Thousands of programs are either written in Python, or use Python to extend their capabilities! Here's why:"
   ]
  },
  {
   "cell_type": "markdown",
   "metadata": {
    "slideshow": {
     "slide_type": "fragment"
    }
   },
   "source": [
    "* It's _built for readability_."
   ]
  },
  {
   "cell_type": "markdown",
   "metadata": {
    "slideshow": {
     "slide_type": "fragment"
    }
   },
   "source": [
    "* Python is built to help you succeed by providing stack traces with errors."
   ]
  },
  {
   "cell_type": "markdown",
   "metadata": {
    "slideshow": {
     "slide_type": "fragment"
    }
   },
   "source": [
    "* It teaches (mostly) good programming habits."
   ]
  },
  {
   "cell_type": "markdown",
   "metadata": {
    "slideshow": {
     "slide_type": "fragment"
    }
   },
   "source": [
    "* It can be used for _almost_ everything."
   ]
  },
  {
   "cell_type": "markdown",
   "metadata": {
    "slideshow": {
     "slide_type": "fragment"
    }
   },
   "source": [
    "* Has an extensive built in library of modules and a packaging system for 3rd party modules"
   ]
  },
  {
   "cell_type": "markdown",
   "metadata": {
    "slideshow": {
     "slide_type": "slide"
    }
   },
   "source": [
    "## What are some of the drawbacks?\n",
    "There aren't many, but here are some to consider:"
   ]
  },
  {
   "cell_type": "markdown",
   "metadata": {
    "slideshow": {
     "slide_type": "fragment"
    }
   },
   "source": [
    "* We have less control over memory & system resources due to high level abstraction. Languages like the C family, Go, Rust, etc are lower level (closer to the machine) and require you to know how to properly handle those resources."
   ]
  },
  {
   "cell_type": "markdown",
   "metadata": {
    "slideshow": {
     "slide_type": "fragment"
    }
   },
   "source": [
    "* Python is a \"slower\" programming language due to requiring an _interpretation_ layer. Compiled languages run super close to the machine without interpretation and thus have less overhead to operate with."
   ]
  },
  {
   "cell_type": "markdown",
   "metadata": {
    "slideshow": {
     "slide_type": "fragment"
    }
   },
   "source": [
    "* Python uses indentation instead of curly braces \"{}\" to delimit blocks of code. For people who are comfortable with braces, Python can be jarring."
   ]
  },
  {
   "cell_type": "markdown",
   "metadata": {
    "slideshow": {
     "slide_type": "slide"
    }
   },
   "source": [
    "## Where did Python come from?\n"
   ]
  },
  {
   "cell_type": "markdown",
   "metadata": {
    "slideshow": {
     "slide_type": "fragment"
    }
   },
   "source": [
    "Python was invented by _Guido van Rossum_ in 1989. He invented it because he wanted a simpler, more productive way to program. He made the language open source. As such, thousands of people have contributed to the language in meaningful ways. Since 2018, he has stepped down as \"BDFL\" (Benevolent Dictator for Life) and Python is now directed by its community. He still contributes to Python today.\n",
    "<img class=\"guidovross\" src=\"./guido.jpg\" style=\"display: block; width: 35%;\" />"
   ]
  }
 ],
 "metadata": {
  "celltoolbar": "Slideshow",
  "kernelspec": {
   "display_name": "Python 3",
   "language": "python",
   "name": "python3"
  },
  "language_info": {
   "codemirror_mode": {
    "name": "ipython",
    "version": 3
   },
   "file_extension": ".py",
   "mimetype": "text/x-python",
   "name": "python",
   "nbconvert_exporter": "python",
   "pygments_lexer": "ipython3",
   "version": "3.8.0"
  }
 },
 "nbformat": 4,
 "nbformat_minor": 2
}
