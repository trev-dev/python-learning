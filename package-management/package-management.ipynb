{
 "cells": [
  {
   "cell_type": "markdown",
   "metadata": {
    "slideshow": {
     "slide_type": "slide"
    }
   },
   "source": [
    "# Package Management\n",
    "\n",
    "At the time that this lesson was written, Python is 12 years old as a language. As with most thriving open source languages, there have been countless contributions made to this project in over a decade.\n",
    "\n",
    "If every contribution to Python was included in the language right away, it would become a bloated, slow and cumbersome language to manage. This is why the majority of features outside of the core language have to be included explicitly if you want to use them"
   ]
  },
  {
   "cell_type": "markdown",
   "metadata": {
    "slideshow": {
     "slide_type": "subslide"
    }
   },
   "source": [
    "## Types of Packages\n",
    "\n",
    "There are three types of packages you can use:\n",
    "\n",
    "1. Packages from the \"standard library\"\n",
    "2. Packages built by the community, most commonly found on PyPI.org and installed using a tool called \"pip\"\n",
    "3. Packages that you build for yourself :)"
   ]
  },
  {
   "cell_type": "markdown",
   "metadata": {
    "slideshow": {
     "slide_type": "slide"
    }
   },
   "source": [
    "## The Standard Library\n",
    "\n",
    "The standard library is a set of packages (sometimes called modules) that are included with every normal Python installation. They are always at your disposal. To use them, they need only be **imported** into your code."
   ]
  },
  {
   "cell_type": "markdown",
   "metadata": {
    "slideshow": {
     "slide_type": "fragment"
    }
   },
   "source": [
    "Take for example, the `random` library."
   ]
  },
  {
   "cell_type": "code",
   "execution_count": 1,
   "metadata": {
    "slideshow": {
     "slide_type": "fragment"
    }
   },
   "outputs": [
    {
     "name": "stdout",
     "output_type": "stream",
     "text": [
      "9\n"
     ]
    }
   ],
   "source": [
    "import random\n",
    "\n",
    "print(random.randint(0, 10))"
   ]
  },
  {
   "cell_type": "markdown",
   "metadata": {
    "slideshow": {
     "slide_type": "fragment"
    }
   },
   "source": [
    "Using the `import` keyword, we bring in the `random` package, and then call a method from that package called `randint`. This method, along with many, many other methods that help program features for randomness are part of the `random` library."
   ]
  },
  {
   "cell_type": "markdown",
   "metadata": {
    "slideshow": {
     "slide_type": "slide"
    }
   },
   "source": [
    "## Community Packages\n",
    "\n",
    "Outside of the standard library, there are thousands of community packages that you can download and install on your system to extend the built-in capabilities of your code.\n",
    "\n",
    "Some popular examples are:\n",
    "\n",
    "1. Pygame - A framework designed to streamline simple Python video game development\n",
    "2. Django, or Flask - Two separate frameworks / approaches to streamlining Python for web development\n",
    "3. Pillow - A very popular library for handling image processing.\n",
    "\n",
    "Some packages aren't meant to be used in your code at all! Some are already complete programs that you can just use :)"
   ]
  },
  {
   "cell_type": "markdown",
   "metadata": {
    "slideshow": {
     "slide_type": "subslide"
    }
   },
   "source": [
    "### How to Get Community Packages\n",
    "\n",
    "Most modern Python installations come with a package management system called pip. Pip is a program that is run from the command line, inside of a terminal. All computer operating systems have terminals in one form or another.\n",
    "\n",
    "You may install packages \"system wide\" by running `pip install`, and remove them with `pip uninstall`."
   ]
  },
  {
   "cell_type": "markdown",
   "metadata": {
    "slideshow": {
     "slide_type": "subslide"
    }
   },
   "source": [
    "For example, if you wanted the pygame module available for all of the projects on your computer system, you can install it by typing `pip install pygame` into your terminal, and hit return.\n",
    "\n",
    "You could then start a new python file, and import pygame to use it:\n",
    "\n",
    "```python\n",
    "import pygame\n",
    "\n",
    "pygame.init()\n",
    "\n",
    "# Start building a game made with Python...\n",
    "```"
   ]
  },
  {
   "cell_type": "markdown",
   "metadata": {
    "slideshow": {
     "slide_type": "subslide"
    }
   },
   "source": [
    "### Keeping your System Clean\n",
    "\n",
    "While it may seem like a good idea to globally install all of your 3rd party Python packages, this tends to clutter up your system installation. It also makes it hard to resolve versioning conflicts from one project to the next. What if one project needs a specific version of Django, but another project requires the latest version?\n",
    "\n",
    "More to this point, if you use Linux, Python is an important part of your operating system. Global package installs can sometimes jeopardize the stability of your operating system!\n",
    "\n",
    "How do we solve these issues? By sandboxing our projects in something called a \"virtual environment\"."
   ]
  },
  {
   "cell_type": "markdown",
   "metadata": {
    "slideshow": {
     "slide_type": "subslide"
    }
   },
   "source": [
    "#### Virtual Environments\n",
    "\n",
    "There are a few ways to build a contained, virtual environment. The most common way is using a tool called \"virtualenv\". You install it with pip by running `pip install virtualenv`. Depending on which operating system you are on, sometimes virtualenv is packaged separately for you to install with your package manager."
   ]
  },
  {
   "cell_type": "markdown",
   "metadata": {
    "slideshow": {
     "slide_type": "subslide"
    }
   },
   "source": [
    "Once you have virtualenv installed, all you should have to do to setup a virtual environment is type `virtualenv` and the name of the folder you want to put your environment in. Virtualenv has many options, you can type `virtualenv -h` for help text to learn more.\n",
    "\n",
    "More exhaustive information on how to set up, or why to set up virtual environments in a certain way can be found by searching the Internet."
   ]
  },
  {
   "cell_type": "markdown",
   "metadata": {
    "slideshow": {
     "slide_type": "subslide"
    }
   },
   "source": [
    "Once you have an environment setup, you need to activate it. Activating virtual environments may vary from system to system. Assuming we set up a virtualenv in a folder called \"env\", we could type:\n",
    "\n",
    "1. `source env/bin/activate` on a Linux/MacOS system\n",
    "2. `source env/Scripts/activate` on a Windows System\n",
    "\n",
    "Your mileage may vary on Windows systems, be sure to look up any challenges you have with activation that you may have."
   ]
  },
  {
   "cell_type": "markdown",
   "metadata": {
    "slideshow": {
     "slide_type": "subslide"
    }
   },
   "source": [
    "Once our virtualenv is setup, we can install and use packages to our heart's content in our project folders. Once we're done working, we can close the terminal, or optionally deactivate the environment with the `deactivate` command. \n",
    "\n",
    "**Remember**: In order for your project to use the packages you install in a virtualenv, you must always first activate the environment."
   ]
  },
  {
   "cell_type": "markdown",
   "metadata": {
    "slideshow": {
     "slide_type": "slide"
    }
   },
   "source": [
    "## Writing Your Own Modules\n",
    "\n",
    "Writing simple modules is as easy as separating your functions or class constructors into _separate files_. Then you import them by name.\n",
    "\n",
    "Let's say you have 2 files in a project folder. One is your main program, the other is a module for greeting users. We'll call the program `app.py` and the greeter module `greetings.py`"
   ]
  },
  {
   "cell_type": "markdown",
   "metadata": {
    "slideshow": {
     "slide_type": "subslide"
    }
   },
   "source": [
    "In our `greetings.py` we could have code like this:\n",
    "\n",
    "```python\n",
    "def hello(name=\"Stranger\"):\n",
    "    print(f'Hello {name}')\n",
    "```\n",
    "\n",
    "Inside our `app.py` we could then import our hello function as a _method_ of our greetings _module_ like so:\n",
    "\n",
    "```python\n",
    "import greetings\n",
    "\n",
    "greetings.hello('Student')\n",
    "```\n",
    "\n",
    "If we then ran `python app.py` we would get \"Hello Student\" as our output in our terminal"
   ]
  },
  {
   "cell_type": "markdown",
   "metadata": {
    "slideshow": {
     "slide_type": "subslide"
    }
   },
   "source": [
    "### Keeping Things Organized\n",
    "\n",
    "In the event that you end up writing several modules for several different reasons, you may feel the desire to use more folders to organize your modules. In order for Python to understand that a folder/directory is a storage space for modules, you will need a file in that folder called `__init__.py`.\n",
    "\n",
    "`__init__.py` can both define module functions as well as import other functions from files in the same directory, but more importantly, it can make it so that other files in the same folder are accessible directly from the main project folder."
   ]
  },
  {
   "cell_type": "markdown",
   "metadata": {
    "slideshow": {
     "slide_type": "subslide"
    }
   },
   "source": [
    "Let's imagine we have a project that has a folder structure like so:\n",
    "```shell\n",
    "├── modules\n",
    "│   ├── game.py\n",
    "│   ├── __init__.py\n",
    "│   └── phrases.py\n",
    "├── play.py\n",
    "└── readme.md\n",
    "```\n",
    "\n",
    "If we're editing \"play.py\" and we want the `get_player_name()` from the `game.py` module, we would do something like:\n",
    "\n",
    "```python\n",
    "from modules import game\n",
    "\n",
    "game.get_player_name()\n",
    "```\n",
    "\n",
    "Note the use of the keyword `from`, which is important for importing modules from folders."
   ]
  },
  {
   "cell_type": "markdown",
   "metadata": {
    "slideshow": {
     "slide_type": "slide"
    }
   },
   "source": [
    "## Different Ways to Import Modules\n",
    "\n",
    "In this lesson we mostly use the `import` keyword by itself to get a module in our code, but we learned that we need the `from` keyword to import a module from a folder.\n",
    "\n",
    "It's important to note that the `from` keyword can be used to import specific functions from a python file. This reduces the load on our runtime memory to help us keep our program as light as possible :)"
   ]
  },
  {
   "cell_type": "markdown",
   "metadata": {
    "slideshow": {
     "slide_type": "subslide"
    }
   },
   "source": [
    "For example, if we just want the `choice` method from the `random` library, we need only import that method:\n",
    "\n",
    "```python\n",
    "from random import choice\n",
    "```\n",
    "\n",
    "If we wanted to chain a bunch of methods to import, we can just use commas to import them: `from random import choice, randint`"
   ]
  },
  {
   "cell_type": "markdown",
   "metadata": {
    "slideshow": {
     "slide_type": "subslide"
    }
   },
   "source": [
    "If we don't like the name of an imported method for whatever reason, we can change it with the `as` keyword :)"
   ]
  },
  {
   "cell_type": "code",
   "execution_count": 4,
   "metadata": {
    "slideshow": {
     "slide_type": "fragment"
    }
   },
   "outputs": [
    {
     "name": "stdout",
     "output_type": "stream",
     "text": [
      "Check out this random number: 3\n"
     ]
    }
   ],
   "source": [
    "from random import randint as rand\n",
    "\n",
    "print(f'Check out this random number: {rand(0, 3)}')"
   ]
  },
  {
   "cell_type": "markdown",
   "metadata": {
    "slideshow": {
     "slide_type": "slide"
    }
   },
   "source": [
    "## That's it for now!\n",
    "\n",
    "Time for some practice. Try the following:\n",
    "\n",
    "1. Importing a package from the _standard library_ and using it. There are lots of packages to choose from. Look up \"python standard library\" in your search engine of choice to find one you can try out.\n",
    "2. Try installing a PyPI package and using it. Bonus points if you do it in a virtualenv.\n",
    "3. Try writing a simple module of your own"
   ]
  },
  {
   "cell_type": "code",
   "execution_count": null,
   "metadata": {},
   "outputs": [],
   "source": []
  }
 ],
 "metadata": {
  "celltoolbar": "Slideshow",
  "kernelspec": {
   "display_name": "Python 3",
   "language": "python",
   "name": "python3"
  },
  "language_info": {
   "codemirror_mode": {
    "name": "ipython",
    "version": 3
   },
   "file_extension": ".py",
   "mimetype": "text/x-python",
   "name": "python",
   "nbconvert_exporter": "python",
   "pygments_lexer": "ipython3",
   "version": "3.8.1"
  }
 },
 "nbformat": 4,
 "nbformat_minor": 2
}
