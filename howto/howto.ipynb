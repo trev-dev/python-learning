{
 "cells": [
  {
   "cell_type": "markdown",
   "metadata": {
    "slideshow": {
     "slide_type": "slide"
    }
   },
   "source": [
    "# How to get the most out of this course"
   ]
  },
  {
   "cell_type": "markdown",
   "metadata": {
    "slideshow": {
     "slide_type": "fragment"
    }
   },
   "source": [
    "Python is one of the easiest programming languages to learn because it's designed to be readable. That being said, it's still a programming language. Here are some tips that will help you get the most out of this course."
   ]
  },
  {
   "cell_type": "markdown",
   "metadata": {
    "slideshow": {
     "slide_type": "fragment"
    }
   },
   "source": [
    "* Try to code along. Repetition helps the learning process.\n",
    "* Attempt the challenges and practice on your own.\n",
    "* Be resourceful. This course cannot cover everything. Searching the Internet is your friend.\n",
    "* Ask questions! Your instructor is here to help you learn, but please hold questions until the instructor is ready to receive them.\n",
    "* _Keep Practicing_. Programming is a trade and just like any trade, you get better the more you practice. If you need more ideas/challenges, check out https://www.practicepython.org/"
   ]
  }
 ],
 "metadata": {
  "celltoolbar": "Slideshow",
  "kernelspec": {
   "display_name": "Python 3",
   "language": "python",
   "name": "python3"
  },
  "language_info": {
   "codemirror_mode": {
    "name": "ipython",
    "version": 3
   },
   "file_extension": ".py",
   "mimetype": "text/x-python",
   "name": "python",
   "nbconvert_exporter": "python",
   "pygments_lexer": "ipython3",
   "version": "3.7.4"
  }
 },
 "nbformat": 4,
 "nbformat_minor": 2
}
