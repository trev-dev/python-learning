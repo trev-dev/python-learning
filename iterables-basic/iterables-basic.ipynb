{
 "cells": [
  {
   "cell_type": "markdown",
   "metadata": {
    "slideshow": {
     "slide_type": "slide"
    }
   },
   "source": [
    "# Iterables\n",
    "Itereables are an important part of Python as well as all other languages. They give us the ability to organize data as well as _iterate_ over that data. With the use of _iteration_ we can perform a set of instructions on that data that would otherwise be tedious and time consuming."
   ]
  },
  {
   "cell_type": "markdown",
   "metadata": {
    "slideshow": {
     "slide_type": "slide"
    }
   },
   "source": [
    "## Common Iterables"
   ]
  },
  {
   "cell_type": "markdown",
   "metadata": {
    "slideshow": {
     "slide_type": "fragment"
    }
   },
   "source": [
    "* Strings"
   ]
  },
  {
   "cell_type": "markdown",
   "metadata": {
    "slideshow": {
     "slide_type": "fragment"
    }
   },
   "source": [
    "* Lists"
   ]
  },
  {
   "cell_type": "markdown",
   "metadata": {
    "slideshow": {
     "slide_type": "fragment"
    }
   },
   "source": [
    "* Dictionaries"
   ]
  },
  {
   "cell_type": "markdown",
   "metadata": {
    "slideshow": {
     "slide_type": "fragment"
    }
   },
   "source": [
    "* Sets"
   ]
  },
  {
   "cell_type": "markdown",
   "metadata": {
    "slideshow": {
     "slide_type": "fragment"
    }
   },
   "source": [
    "* Tuples"
   ]
  },
  {
   "cell_type": "markdown",
   "metadata": {
    "slideshow": {
     "slide_type": "slide"
    }
   },
   "source": [
    "## Lists\n",
    "Lists are the most common and basic way to create an iterable. You can create a new list using brackets. Lists can contain any data type (including more lists). Lists are _indexed_ by number. Indexes start counting at 0. The values of indexed items are _mutable_ which means they can be changed."
   ]
  },
  {
   "cell_type": "code",
   "execution_count": 10,
   "metadata": {
    "slideshow": {
     "slide_type": "fragment"
    }
   },
   "outputs": [
    {
     "name": "stdout",
     "output_type": "stream",
     "text": [
      "1\n",
      "4\n",
      "Pizza\n",
      "Dogs\n"
     ]
    }
   ],
   "source": [
    "my_list = [1, 2, 'Cats', 'Dogs']\n",
    "\n",
    "print(my_list[0])\n",
    "print(len(my_list))\n",
    "my_list[1] = 'Pizza'\n",
    "print(my_list[1])\n",
    "print(my_list[len(my_list) - 1])"
   ]
  },
  {
   "cell_type": "markdown",
   "metadata": {
    "slideshow": {
     "slide_type": "slide"
    }
   },
   "source": [
    "## Dictionaries\n",
    "Dictionaries are like lists, but instead contain key-word values. Dictionaries are great for organizing structured data. They are created using curly braces. They can also contain any data type. Unlike lists, we reference dictionaries by _key_ instead of index. Keys are _case sensitive_ and follow the same naming conventions as variables. Keys must be wrapped in quotes. Dictionary _values_ are _mutable_."
   ]
  },
  {
   "cell_type": "code",
   "execution_count": 11,
   "metadata": {
    "slideshow": {
     "slide_type": "fragment"
    }
   },
   "outputs": [
    {
     "name": "stdout",
     "output_type": "stream",
     "text": [
      "Trevor\n",
      "34\n",
      "['Python', 'Javascript', 'HTML']\n"
     ]
    }
   ],
   "source": [
    "my_dict = {'name': 'Trevor', 'age': 34, 'skills': ['Python', 'Javascript']}\n",
    "\n",
    "print(my_dict['name'])\n",
    "print(my_dict['age'])\n",
    "\n",
    "my_dict['skills'].append('HTML')\n",
    "print(my_dict['skills'])"
   ]
  },
  {
   "cell_type": "markdown",
   "metadata": {
    "slideshow": {
     "slide_type": "slide"
    }
   },
   "source": [
    "## Tuples\n",
    "Tuples work just like lists, only they are _immutable_. This means that once they're created, their values cannot be changed. Tuples are created with parenthesis."
   ]
  },
  {
   "cell_type": "code",
   "execution_count": 12,
   "metadata": {
    "slideshow": {
     "slide_type": "fragment"
    }
   },
   "outputs": [
    {
     "name": "stdout",
     "output_type": "stream",
     "text": [
      "2\n"
     ]
    },
    {
     "ename": "AttributeError",
     "evalue": "'tuple' object has no attribute 'append'",
     "output_type": "error",
     "traceback": [
      "\u001b[0;31m---------------------------------------------------------------------------\u001b[0m",
      "\u001b[0;31mAttributeError\u001b[0m                            Traceback (most recent call last)",
      "\u001b[0;32m<ipython-input-12-e0ef7d6346f5>\u001b[0m in \u001b[0;36m<module>\u001b[0;34m()\u001b[0m\n\u001b[1;32m      2\u001b[0m \u001b[0mprint\u001b[0m\u001b[0;34m(\u001b[0m\u001b[0mmy_tuple\u001b[0m\u001b[0;34m[\u001b[0m\u001b[0;36m1\u001b[0m\u001b[0;34m]\u001b[0m\u001b[0;34m)\u001b[0m\u001b[0;34m\u001b[0m\u001b[0m\n\u001b[1;32m      3\u001b[0m \u001b[0;34m\u001b[0m\u001b[0m\n\u001b[0;32m----> 4\u001b[0;31m \u001b[0mmy_tuple\u001b[0m\u001b[0;34m.\u001b[0m\u001b[0mappend\u001b[0m\u001b[0;34m(\u001b[0m\u001b[0;36m3\u001b[0m\u001b[0;34m)\u001b[0m\u001b[0;34m\u001b[0m\u001b[0m\n\u001b[0m",
      "\u001b[0;31mAttributeError\u001b[0m: 'tuple' object has no attribute 'append'"
     ]
    }
   ],
   "source": [
    "my_tuple = (1, 2)\n",
    "print(my_tuple[1])\n",
    "\n",
    "my_tuple.append(3)"
   ]
  },
  {
   "cell_type": "markdown",
   "metadata": {
    "slideshow": {
     "slide_type": "slide"
    }
   },
   "source": [
    "## Sets\n",
    "Sets are a collection of unique list items. You typically use the set() built in function to quickly filter down long lists with lots of redundant data. You may also create a new set using the same function."
   ]
  },
  {
   "cell_type": "code",
   "execution_count": 15,
   "metadata": {
    "slideshow": {
     "slide_type": "fragment"
    }
   },
   "outputs": [
    {
     "name": "stdout",
     "output_type": "stream",
     "text": [
      "{'Chips', 'Sausage', 'Bacon', 'Apples'}\n"
     ]
    }
   ],
   "source": [
    "groceries = ['Chips', 'Apples', 'Sausage', 'Apples', 'Sausage', 'Chips', 'Bacon']\n",
    "groceries = set(groceries)\n",
    "print(groceries)"
   ]
  },
  {
   "cell_type": "markdown",
   "metadata": {
    "slideshow": {
     "slide_type": "slide"
    }
   },
   "source": [
    "## Iteration\n",
    "There are two major special keywords that we can use to iterate on each item of an iterable. "
   ]
  },
  {
   "cell_type": "markdown",
   "metadata": {
    "slideshow": {
     "slide_type": "fragment"
    }
   },
   "source": [
    "### for/in\n",
    "Iterates over every single item in an iterable. The loop stops if you _break_ it or if it finishes the last item in the iterable. This is probably the most commonly used method for iterating over lists/dictionaries."
   ]
  },
  {
   "cell_type": "markdown",
   "metadata": {
    "slideshow": {
     "slide_type": "fragment"
    }
   },
   "source": [
    "### while\n",
    "Loops/iterates over and over again until some explicit condition breaks the loop and causes the block to exit. This loop is somewhat \"dangerous\" to use as while loops can inadvertently cause never-ending loops. These are commonly used to keep a program/process running indefinitely."
   ]
  },
  {
   "cell_type": "markdown",
   "metadata": {
    "slideshow": {
     "slide_type": "slide"
    }
   },
   "source": [
    "## The For/In Keywords\n",
    "We start a for loop with the \"for\" keyword, followed by the variable name for each _item_ in the iterable (this can be anything you want), then the \"in\" keyword followed by the _iterable_. \n",
    "\n",
    "That's a mouthful. Here's some examples:"
   ]
  },
  {
   "cell_type": "code",
   "execution_count": 2,
   "metadata": {
    "slideshow": {
     "slide_type": "fragment"
    }
   },
   "outputs": [
    {
     "name": "stdout",
     "output_type": "stream",
     "text": [
      "2\n",
      "4\n",
      "6\n",
      "8\n",
      "10\n"
     ]
    }
   ],
   "source": [
    "my_list = [1, 2, 3, 4, 5]\n",
    "\n",
    "for num in my_list:\n",
    "    print(num * 2)"
   ]
  },
  {
   "cell_type": "code",
   "execution_count": 3,
   "metadata": {
    "slideshow": {
     "slide_type": "fragment"
    }
   },
   "outputs": [
    {
     "name": "stdout",
     "output_type": "stream",
     "text": [
      "The name is Zack\n",
      "The name is Jack\n",
      "The name is Mack\n"
     ]
    }
   ],
   "source": [
    "my_list = ['Zack', 'Jack', 'Mack']\n",
    "\n",
    "for name in my_list:\n",
    "    print(f'The name is {name}')"
   ]
  },
  {
   "cell_type": "markdown",
   "metadata": {
    "slideshow": {
     "slide_type": "slide"
    }
   },
   "source": [
    "If you need the index of each item, you may use the enumerate() built in function to extract the index. You may also use any name you'd like for the index"
   ]
  },
  {
   "cell_type": "code",
   "execution_count": 4,
   "metadata": {
    "slideshow": {
     "slide_type": "fragment"
    }
   },
   "outputs": [
    {
     "name": "stdout",
     "output_type": "stream",
     "text": [
      "[2, 4, 6, 8]\n"
     ]
    }
   ],
   "source": [
    "my_list = [1, 2, 3, 4]\n",
    "\n",
    "for item, num in enumerate(my_list):\n",
    "    my_list[item] = num * 2\n",
    "\n",
    "print(my_list)"
   ]
  },
  {
   "cell_type": "markdown",
   "metadata": {
    "slideshow": {
     "slide_type": "slide"
    }
   },
   "source": [
    "We can also use for/in with dictionaries"
   ]
  },
  {
   "cell_type": "code",
   "execution_count": 6,
   "metadata": {
    "slideshow": {
     "slide_type": "fragment"
    }
   },
   "outputs": [
    {
     "name": "stdout",
     "output_type": "stream",
     "text": [
      "name\n",
      "Trevor\n",
      "age\n",
      "34\n"
     ]
    }
   ],
   "source": [
    "my_dict = {'name': 'Trevor', 'age': 34}\n",
    "\n",
    "for item in my_dict:\n",
    "    print(item)\n",
    "    print(my_dict[item])"
   ]
  },
  {
   "cell_type": "markdown",
   "metadata": {
    "slideshow": {
     "slide_type": "slide"
    }
   },
   "source": [
    "## The While Keyword\n",
    "\"While\" is much more simple than for/in. We simply type _while_ and then some sort of condition upon which to break the loop. The cycle will continue step by step, line by line until the loop is broken"
   ]
  },
  {
   "cell_type": "code",
   "execution_count": 2,
   "metadata": {
    "slideshow": {
     "slide_type": "fragment"
    }
   },
   "outputs": [
    {
     "name": "stdout",
     "output_type": "stream",
     "text": [
      "0\n",
      "1\n",
      "2\n",
      "3\n",
      "4\n"
     ]
    }
   ],
   "source": [
    "some_number = 0\n",
    "\n",
    "while some_number < 5:\n",
    "    print(some_number)\n",
    "    some_number += 1"
   ]
  },
  {
   "cell_type": "markdown",
   "metadata": {
    "slideshow": {
     "slide_type": "slide"
    }
   },
   "source": [
    "We can iterate over iterables with a while loop, but this method is (somewhat) less intuitive."
   ]
  },
  {
   "cell_type": "code",
   "execution_count": 3,
   "metadata": {
    "slideshow": {
     "slide_type": "fragment"
    }
   },
   "outputs": [
    {
     "name": "stdout",
     "output_type": "stream",
     "text": [
      "Thing\n",
      "Other Thing\n",
      "Yet Another Thing\n"
     ]
    }
   ],
   "source": [
    "some_list = ['Thing', 'Other Thing', 'Yet Another Thing']\n",
    "\n",
    "i = 0\n",
    "while i < len(some_list):\n",
    "    print(some_list[i])\n",
    "    i += 1"
   ]
  },
  {
   "cell_type": "markdown",
   "metadata": {
    "slideshow": {
     "slide_type": "slide"
    }
   },
   "source": [
    "A more common use for while loops is to keep a set of instructions running indefinitely. In simpler words, we can keep a program running until we _want_ it to exit."
   ]
  },
  {
   "cell_type": "code",
   "execution_count": null,
   "metadata": {
    "scrolled": true,
    "slideshow": {
     "slide_type": "fragment"
    }
   },
   "outputs": [
    {
     "name": "stdout",
     "output_type": "stream",
     "text": [
      "\n",
      "Select an option:\n",
      "1) Keep going\n",
      "2) Quit\n",
      "\n",
      "\n"
     ]
    }
   ],
   "source": [
    "finished = False\n",
    "\n",
    "message = \"\"\"\n",
    "Select an option:\n",
    "1) Keep going\n",
    "2) Quit\n",
    "\n",
    "\"\"\"\n",
    "\n",
    "while not finished:\n",
    "    print(message)\n",
    "    option = input('Enter your choice: ')\n",
    "    if option == '1':\n",
    "        print('Going on...')\n",
    "    if option == '2':\n",
    "        finished = True\n",
    "print('Finished')"
   ]
  },
  {
   "cell_type": "raw",
   "metadata": {
    "slideshow": {
     "slide_type": "subslide"
    }
   },
   "source": [
    "Enter your choice: 1\n",
    "\n",
    "Select an option:\n",
    "1) Keep going\n",
    "2) Quit\n",
    "\n",
    "\n",
    "Enter your choice: 2\n",
    "Finished"
   ]
  },
  {
   "cell_type": "markdown",
   "metadata": {
    "slideshow": {
     "slide_type": "slide"
    }
   },
   "source": [
    "## Continue, Break & Pass Keywords\n",
    "We can also use the _continue_, _break_ and _pass_ keywords to help control a \"for\" or \"while\" loop"
   ]
  },
  {
   "cell_type": "markdown",
   "metadata": {
    "slideshow": {
     "slide_type": "slide"
    }
   },
   "source": [
    "* _continue_ tells the loop to skip over the rest of the loop instructions and carry on with the next iteration.\n",
    "\n",
    "**Note**: the range() built-in function automatically creates an iterable that starts at 0 and contains integers that increment by 1 until the iterable reaches the length of the number called. For example: range(5) = [0, 1, 2, 3, 4]"
   ]
  },
  {
   "cell_type": "code",
   "execution_count": 12,
   "metadata": {
    "slideshow": {
     "slide_type": "fragment"
    }
   },
   "outputs": [
    {
     "name": "stdout",
     "output_type": "stream",
     "text": [
      "0\n",
      "1\n",
      "3\n",
      "4\n",
      "Outside of Loop\n"
     ]
    }
   ],
   "source": [
    "for i in range(5):\n",
    "    if i == 2:\n",
    "        continue\n",
    "    print(i)\n",
    "print('Outside of Loop')"
   ]
  },
  {
   "cell_type": "markdown",
   "metadata": {
    "slideshow": {
     "slide_type": "slide"
    }
   },
   "source": [
    "* _break_ tells the loop to exit right away. "
   ]
  },
  {
   "cell_type": "code",
   "execution_count": 9,
   "metadata": {
    "slideshow": {
     "slide_type": "fragment"
    }
   },
   "outputs": [
    {
     "name": "stdout",
     "output_type": "stream",
     "text": [
      "0\n",
      "1\n",
      "Outside of Loop\n"
     ]
    }
   ],
   "source": [
    "for i in range(5):\n",
    "    if i == 2:\n",
    "        break\n",
    "    print(i)\n",
    "print('Outside of Loop')"
   ]
  },
  {
   "cell_type": "markdown",
   "metadata": {
    "slideshow": {
     "slide_type": "slide"
    }
   },
   "source": [
    "* _pass_ tells Python to ignore a condition and carry on as though it wasn't there. It's typically used as a placeholder for future work."
   ]
  },
  {
   "cell_type": "code",
   "execution_count": 10,
   "metadata": {
    "slideshow": {
     "slide_type": "fragment"
    }
   },
   "outputs": [
    {
     "name": "stdout",
     "output_type": "stream",
     "text": [
      "0\n",
      "1\n",
      "2\n",
      "3\n",
      "4\n",
      "Outside of Loop\n"
     ]
    }
   ],
   "source": [
    "for i in range(5):\n",
    "    if i == 2:\n",
    "        pass\n",
    "    print(i)\n",
    "print('Outside of Loop')"
   ]
  },
  {
   "cell_type": "markdown",
   "metadata": {
    "slideshow": {
     "slide_type": "slide"
    }
   },
   "source": [
    "Let's revisit our last \"while\" loop example, but this time, we'll use _continue_ and _break_"
   ]
  },
  {
   "cell_type": "code",
   "execution_count": 11,
   "metadata": {
    "slideshow": {
     "slide_type": "fragment"
    }
   },
   "outputs": [
    {
     "name": "stdout",
     "output_type": "stream",
     "text": [
      "\n",
      "Select an option:\n",
      "1) Keep going\n",
      "2) Quit\n",
      "\n",
      "\n",
      "Enter your choice: 1\n",
      "Going on...\n",
      "\n",
      "Select an option:\n",
      "1) Keep going\n",
      "2) Quit\n",
      "\n",
      "\n",
      "Enter your choice: 2\n"
     ]
    }
   ],
   "source": [
    "message = \"\"\"\n",
    "Select an option:\n",
    "1) Keep going\n",
    "2) Quit\n",
    "\n",
    "\"\"\"\n",
    "\n",
    "while True:\n",
    "    print(message)\n",
    "    option = input('Enter your choice: ')\n",
    "    if option == '1':\n",
    "        print('Going on...')\n",
    "        continue\n",
    "    if option == '2':\n",
    "        break"
   ]
  },
  {
   "cell_type": "markdown",
   "metadata": {
    "slideshow": {
     "slide_type": "slide"
    }
   },
   "source": [
    "## Let's Practice!"
   ]
  },
  {
   "cell_type": "markdown",
   "metadata": {
    "slideshow": {
     "slide_type": "fragment"
    }
   },
   "source": [
    "* Create list containing a minumum of 5 items and use a _for_ loop to modify the items in some way and then print() them out."
   ]
  },
  {
   "cell_type": "markdown",
   "metadata": {
    "slideshow": {
     "slide_type": "fragment"
    }
   },
   "source": [
    "* Use the same list as before, but this time, perform a while loop to print() out the items in the list until the end of the list is reached."
   ]
  },
  {
   "cell_type": "markdown",
   "metadata": {
    "slideshow": {
     "slide_type": "fragment"
    }
   },
   "source": [
    "* Create a dictionary of pet names and owners. Use a for loop to print out the dictionary, entry by entry, in a human readable string. For example: {'pet': 'Spot', 'owner': 'Carl'} => \"Spot belongs to Carl\"."
   ]
  }
 ],
 "metadata": {
  "celltoolbar": "Slideshow",
  "kernelspec": {
   "display_name": "Python 3",
   "language": "python",
   "name": "python3"
  },
  "language_info": {
   "codemirror_mode": {
    "name": "ipython",
    "version": 3
   },
   "file_extension": ".py",
   "mimetype": "text/x-python",
   "name": "python",
   "nbconvert_exporter": "python",
   "pygments_lexer": "ipython3",
   "version": "3.7.4"
  }
 },
 "nbformat": 4,
 "nbformat_minor": 2
}
