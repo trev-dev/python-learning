{
 "cells": [
  {
   "cell_type": "markdown",
   "metadata": {
    "slideshow": {
     "slide_type": "slide"
    }
   },
   "source": [
    "# Functions in Python\n",
    "_What are they?_\n",
    "\n",
    "Essentially functions are repeatable blocks of code that can be utilized to run specific tasks repeatedly and return expected results."
   ]
  },
  {
   "cell_type": "markdown",
   "metadata": {
    "slideshow": {
     "slide_type": "slide"
    }
   },
   "source": [
    "## The anatomy of a function\n",
    "\n",
    "Functions are made of the following:"
   ]
  },
  {
   "cell_type": "markdown",
   "metadata": {
    "slideshow": {
     "slide_type": "fragment"
    }
   },
   "source": [
    "1) The _def_ keyword to initialize a function"
   ]
  },
  {
   "cell_type": "markdown",
   "metadata": {
    "slideshow": {
     "slide_type": "fragment"
    }
   },
   "source": [
    "2) A valid name to point to the function"
   ]
  },
  {
   "cell_type": "markdown",
   "metadata": {
    "slideshow": {
     "slide_type": "fragment"
    }
   },
   "source": [
    "3) Parenthesis to take arguments (or not)"
   ]
  },
  {
   "cell_type": "markdown",
   "metadata": {
    "slideshow": {
     "slide_type": "fragment"
    }
   },
   "source": [
    "4) A colon to denote the beginning of the function code block"
   ]
  },
  {
   "cell_type": "markdown",
   "metadata": {
    "slideshow": {
     "slide_type": "fragment"
    }
   },
   "source": [
    "5) Documentation as to what the function does goes right before the first block of code (optional)"
   ]
  },
  {
   "cell_type": "markdown",
   "metadata": {
    "slideshow": {
     "slide_type": "slide"
    }
   },
   "source": [
    "### Here's an example!"
   ]
  },
  {
   "cell_type": "code",
   "execution_count": 20,
   "metadata": {
    "slideshow": {
     "slide_type": "fragment"
    }
   },
   "outputs": [],
   "source": [
    "def greet(name):\n",
    "    \"\"\"Accepts a string (name), prints a greeting\"\"\"\n",
    "    print(f'Hello, {name}!')"
   ]
  },
  {
   "cell_type": "markdown",
   "metadata": {
    "slideshow": {
     "slide_type": "fragment"
    }
   },
   "source": [
    "Now that we have our function (greet) that accepts 1 parameter (name), we can execute this block of code. We do this by calling the function with its _name_ and passing it the desired argument."
   ]
  },
  {
   "cell_type": "code",
   "execution_count": 21,
   "metadata": {
    "slideshow": {
     "slide_type": "fragment"
    }
   },
   "outputs": [
    {
     "name": "stdout",
     "output_type": "stream",
     "text": [
      "Hello, Corbyn!\n"
     ]
    }
   ],
   "source": [
    "greet('Corbyn')"
   ]
  },
  {
   "cell_type": "markdown",
   "metadata": {
    "slideshow": {
     "slide_type": "slide"
    }
   },
   "source": [
    "### We can give functions default values for their arguments.\n",
    "If we don't, and we run a function without its required parameters, it'll throw an error."
   ]
  },
  {
   "cell_type": "code",
   "execution_count": 3,
   "metadata": {
    "slideshow": {
     "slide_type": "fragment"
    }
   },
   "outputs": [
    {
     "ename": "TypeError",
     "evalue": "greet() missing 1 required positional argument: 'name'",
     "output_type": "error",
     "traceback": [
      "\u001b[0;31m---------------------------------------------------------------------------\u001b[0m",
      "\u001b[0;31mTypeError\u001b[0m                                 Traceback (most recent call last)",
      "\u001b[0;32m<ipython-input-3-db845682bfe7>\u001b[0m in \u001b[0;36m<module>\u001b[0;34m()\u001b[0m\n\u001b[0;32m----> 1\u001b[0;31m \u001b[0mgreet\u001b[0m\u001b[0;34m(\u001b[0m\u001b[0;34m)\u001b[0m\u001b[0;34m\u001b[0m\u001b[0m\n\u001b[0m",
      "\u001b[0;31mTypeError\u001b[0m: greet() missing 1 required positional argument: 'name'"
     ]
    }
   ],
   "source": [
    "greet()"
   ]
  },
  {
   "cell_type": "markdown",
   "metadata": {
    "slideshow": {
     "slide_type": "slide"
    }
   },
   "source": [
    "### Let's redefine \"greet\" and give it a default.\n",
    "And add some _control flow_."
   ]
  },
  {
   "cell_type": "code",
   "execution_count": 4,
   "metadata": {
    "slideshow": {
     "slide_type": "fragment"
    }
   },
   "outputs": [],
   "source": [
    "def greet(name=False):\n",
    "    if not name:\n",
    "        print('Hello there!')\n",
    "    else:\n",
    "        print(f'Welcome back, {name}!')"
   ]
  },
  {
   "cell_type": "code",
   "execution_count": 5,
   "metadata": {
    "slideshow": {
     "slide_type": "fragment"
    }
   },
   "outputs": [
    {
     "name": "stdout",
     "output_type": "stream",
     "text": [
      "Welcome back, Corbyn!\n"
     ]
    }
   ],
   "source": [
    "# With an argument\n",
    "greet('Corbyn')"
   ]
  },
  {
   "cell_type": "code",
   "execution_count": 6,
   "metadata": {
    "slideshow": {
     "slide_type": "fragment"
    }
   },
   "outputs": [
    {
     "name": "stdout",
     "output_type": "stream",
     "text": [
      "Hello there!\n"
     ]
    }
   ],
   "source": [
    "# Without\n",
    "greet()"
   ]
  },
  {
   "cell_type": "markdown",
   "metadata": {
    "slideshow": {
     "slide_type": "slide"
    }
   },
   "source": [
    "### Functions can also return values. This allows us to store the result of a function in a variable."
   ]
  },
  {
   "cell_type": "code",
   "execution_count": 7,
   "metadata": {
    "slideshow": {
     "slide_type": "fragment"
    }
   },
   "outputs": [
    {
     "name": "stdout",
     "output_type": "stream",
     "text": [
      "6\n"
     ]
    }
   ],
   "source": [
    "def double(num):\n",
    "    \"\"\"Takes a number and returns it doubled \"\"\"\n",
    "    return num * 2\n",
    "\n",
    "num = 3\n",
    "num_doubled = double(num)\n",
    "print(num_doubled)"
   ]
  },
  {
   "cell_type": "markdown",
   "metadata": {
    "slideshow": {
     "slide_type": "slide"
    }
   },
   "source": [
    "# Let's get weird!\n",
    "![weirdo picard](./weird.gif)\n",
    "Python has some really interesting ways of executing functions in more complex, _dynamic_ ways."
   ]
  },
  {
   "cell_type": "markdown",
   "metadata": {
    "slideshow": {
     "slide_type": "slide"
    }
   },
   "source": [
    "### Functions can accept arbitrary arguments and key-word arguments."
   ]
  },
  {
   "cell_type": "markdown",
   "metadata": {
    "slideshow": {
     "slide_type": "fragment"
    }
   },
   "source": [
    "We can use *args to capture any number of arguments."
   ]
  },
  {
   "cell_type": "code",
   "execution_count": 8,
   "metadata": {
    "slideshow": {
     "slide_type": "fragment"
    }
   },
   "outputs": [
    {
     "name": "stdout",
     "output_type": "stream",
     "text": [
      "Pie\n",
      "Donair\n",
      "Cake\n"
     ]
    }
   ],
   "source": [
    "def whatever(*args):\n",
    "    for snack in args:\n",
    "        print(snack)\n",
    "whatever('Pie', 'Donair', 'Cake')"
   ]
  },
  {
   "cell_type": "markdown",
   "metadata": {
    "slideshow": {
     "slide_type": "slide"
    }
   },
   "source": [
    "We can use **kwargs to get key-word arguments"
   ]
  },
  {
   "cell_type": "code",
   "execution_count": 9,
   "metadata": {
    "slideshow": {
     "slide_type": "fragment"
    }
   },
   "outputs": [
    {
     "name": "stdout",
     "output_type": "stream",
     "text": [
      "Name is Trevor\n",
      "Age is 34\n"
     ]
    }
   ],
   "source": [
    "def whatever(**kwargs):\n",
    "    for key, val in kwargs.items():\n",
    "        print(f'{key} is {val}')\n",
    "        \n",
    "whatever(Name='Trevor', Age=34)"
   ]
  },
  {
   "cell_type": "markdown",
   "metadata": {
    "slideshow": {
     "slide_type": "slide"
    }
   },
   "source": [
    "Note: If we want to pass a dictionary into a function as **kwargs, we need to use a double splat when passing it to the function. This will convert the dictionary into keyword argument format."
   ]
  },
  {
   "cell_type": "code",
   "execution_count": 10,
   "metadata": {
    "slideshow": {
     "slide_type": "fragment"
    }
   },
   "outputs": [
    {
     "name": "stdout",
     "output_type": "stream",
     "text": [
      "Name is Trevor\n",
      "Age is 34\n"
     ]
    }
   ],
   "source": [
    "def whatever(**kwargs):\n",
    "    for key, val in kwargs.items():\n",
    "        print(f'{key} is {val}')\n",
    "\n",
    "some_dict = {\n",
    "    \"Name\": \"Trevor\",\n",
    "    \"Age\": 34\n",
    "}\n",
    "whatever(**some_dict)"
   ]
  },
  {
   "cell_type": "markdown",
   "metadata": {
    "slideshow": {
     "slide_type": "slide"
    }
   },
   "source": [
    "### Functions can be written as one-line arbitrary functions\n",
    "These arbitrary functions are nameless and are referred to as _lambda_ functions. They're handy for performing a quick, one-time function on the fly but are sometimes challenging to read."
   ]
  },
  {
   "cell_type": "markdown",
   "metadata": {
    "slideshow": {
     "slide_type": "fragment"
    }
   },
   "source": [
    "![lambda diagram](./lambda.png)"
   ]
  },
  {
   "cell_type": "markdown",
   "metadata": {
    "slideshow": {
     "slide_type": "slide"
    }
   },
   "source": [
    "#### Lambda function examples:"
   ]
  },
  {
   "cell_type": "code",
   "execution_count": 12,
   "metadata": {
    "slideshow": {
     "slide_type": "fragment"
    }
   },
   "outputs": [
    {
     "name": "stdout",
     "output_type": "stream",
     "text": [
      "['Jerry', 'Minx', 'Garfield', 'Blook']\n"
     ]
    }
   ],
   "source": [
    "make_cat_list = lambda *l : list(l)\n",
    "catlist = make_cat_list('Jerry', 'Minx', 'Garfield', 'Blook')\n",
    "print(catlist)"
   ]
  },
  {
   "cell_type": "code",
   "execution_count": 13,
   "metadata": {
    "slideshow": {
     "slide_type": "fragment"
    }
   },
   "outputs": [
    {
     "name": "stdout",
     "output_type": "stream",
     "text": [
      "3\n"
     ]
    }
   ],
   "source": [
    "add_three_nums = lambda a,b,c : a + b + c\n",
    "\n",
    "print(add_three_nums(1, 1, 1))"
   ]
  },
  {
   "cell_type": "markdown",
   "metadata": {
    "slideshow": {
     "slide_type": "slide"
    }
   },
   "source": [
    "### Functions can scope variables from outside of their boundaries\n",
    "This can lead to some interesting intended (or unintended) effects."
   ]
  },
  {
   "cell_type": "code",
   "execution_count": 14,
   "metadata": {
    "slideshow": {
     "slide_type": "fragment"
    }
   },
   "outputs": [
    {
     "name": "stdout",
     "output_type": "stream",
     "text": [
      "Global scope a initially is Platypus\n",
      "Inside func 1 a = Platypus\n",
      "Inside func 2 a = Dog\n",
      "Inside func 3 b = Cat\n",
      "Global scope \"a\" after running functions = Platypus\n"
     ]
    }
   ],
   "source": [
    "a = 'Platypus'\n",
    "print('Global scope a initially is', a)\n",
    "\n",
    "def func_one():\n",
    "    b = 'Cat'\n",
    "    print('Inside func 1 a =', a)\n",
    "    def func_two():\n",
    "        a = 'Dog'\n",
    "        def func_three():\n",
    "            print('Inside func 3 b =',b)\n",
    "        print('Inside func 2 a =',a)\n",
    "        func_three()\n",
    "    func_two()\n",
    "\n",
    "func_one()\n",
    "print('Global scope \"a\" after running functions =', a)"
   ]
  },
  {
   "cell_type": "markdown",
   "metadata": {
    "slideshow": {
     "slide_type": "slide"
    }
   },
   "source": [
    "### We can see by that example that the function scope is _encapsulated_\n",
    "This means that what happens in a function, stays in that function. It doesn't interfere with the outside scope and variables.\n",
    "\n",
    "That being said, in order to access anything from a function, it needs to be used on return, or stored via return into a variable."
   ]
  },
  {
   "cell_type": "code",
   "execution_count": 15,
   "metadata": {
    "slideshow": {
     "slide_type": "fragment"
    }
   },
   "outputs": [
    {
     "name": "stdout",
     "output_type": "stream",
     "text": [
      "Variable was undefined\n",
      "Blat\n"
     ]
    }
   ],
   "source": [
    "def get_b():\n",
    "    b = 'Blat'\n",
    "    return b\n",
    "\n",
    "try:\n",
    "    print(b)\n",
    "except NameError:\n",
    "    print('Variable was undefined')\n",
    "finally:\n",
    "    print(get_b())"
   ]
  },
  {
   "cell_type": "markdown",
   "metadata": {
    "slideshow": {
     "slide_type": "slide"
    }
   },
   "source": [
    "### With the power of function scopes, we can create special functions called _closures_. \n",
    "Closures are functions that return another function\n",
    "![whoa](./whoa.gif)"
   ]
  },
  {
   "cell_type": "code",
   "execution_count": 16,
   "metadata": {
    "slideshow": {
     "slide_type": "slide"
    }
   },
   "outputs": [
    {
     "name": "stdout",
     "output_type": "stream",
     "text": [
      "10\n",
      "25\n",
      "100\n"
     ]
    }
   ],
   "source": [
    "def create_multiplier(mult):\n",
    "    def multiply(num):\n",
    "        return mult * num\n",
    "    return multiply\n",
    "\n",
    "by_two = create_multiplier(2)\n",
    "by_five = create_multiplier(5)\n",
    "by_ten = create_multiplier(10)\n",
    "\n",
    "print(by_two(5))\n",
    "print(by_five(5))\n",
    "print(by_ten(10))"
   ]
  },
  {
   "cell_type": "markdown",
   "metadata": {
    "slideshow": {
     "slide_type": "slide"
    }
   },
   "source": [
    "# Functions are considered _First Class Objects_\n",
    "This means they can be passed around like variables. We can take the concept of closures even further with the concept of _decorators_."
   ]
  },
  {
   "cell_type": "code",
   "execution_count": 17,
   "metadata": {
    "slideshow": {
     "slide_type": "fragment"
    }
   },
   "outputs": [
    {
     "name": "stdout",
     "output_type": "stream",
     "text": [
      "Before function call\n",
      "YEAAAAAAAAAARGH\n",
      "After\n"
     ]
    }
   ],
   "source": [
    "def decorator(func):\n",
    "    def wrapper():\n",
    "        print('Before function call')\n",
    "        func()\n",
    "        print('After')\n",
    "    return wrapper\n",
    "\n",
    "def yell_loudly():\n",
    "    print('YEAAAAAAAAAARGH')\n",
    "\n",
    "yell_loudly = decorator(yell_loudly)\n",
    "\n",
    "yell_loudly()"
   ]
  },
  {
   "cell_type": "markdown",
   "metadata": {
    "slideshow": {
     "slide_type": "slide"
    }
   },
   "source": [
    "### We can also use the @ symbol to decorate\n",
    "Lets try a good use scenario with this syntactic sugar."
   ]
  },
  {
   "cell_type": "code",
   "execution_count": 18,
   "metadata": {
    "slideshow": {
     "slide_type": "fragment"
    }
   },
   "outputs": [
    {
     "name": "stdout",
     "output_type": "stream",
     "text": [
      "YEAAAAAAAAAAARGH!\n"
     ]
    }
   ],
   "source": [
    "from datetime import datetime\n",
    "\n",
    "def are_people_sleeping(func):\n",
    "    def wrapper():\n",
    "        if 7 <= datetime.now().hour < 22:\n",
    "            func()\n",
    "        else:\n",
    "            print('Shhhhhh....people are sleeping!')\n",
    "    return wrapper\n",
    "\n",
    "@are_people_sleeping\n",
    "def yell_loudly():\n",
    "    print('YEAAAAAAAAAAARGH!')\n",
    "\n",
    "yell_loudly()"
   ]
  },
  {
   "cell_type": "markdown",
   "metadata": {
    "slideshow": {
     "slide_type": "slide"
    }
   },
   "source": [
    "## That's all for now!\n",
    "Time to practice with some challenges! Open your editor and get coding :D"
   ]
  },
  {
   "cell_type": "markdown",
   "metadata": {
    "slideshow": {
     "slide_type": "fragment"
    }
   },
   "source": [
    "1) Create a simple program that asks for a password and uses a function to test if the password is correct or not"
   ]
  },
  {
   "cell_type": "markdown",
   "metadata": {
    "slideshow": {
     "slide_type": "fragment"
    }
   },
   "source": [
    "2) Create a program that takes a number from the user and uses a function to test if that number is odd, or even."
   ]
  },
  {
   "cell_type": "markdown",
   "metadata": {
    "slideshow": {
     "slide_type": "fragment"
    }
   },
   "source": [
    "3) Create a simple \"greeter\" program that asks for a name and uses a function to deliver one random greeting from a list of greetings."
   ]
  }
 ],
 "metadata": {
  "celltoolbar": "Slideshow",
  "kernelspec": {
   "display_name": "Python 3",
   "language": "python",
   "name": "python3"
  },
  "language_info": {
   "codemirror_mode": {
    "name": "ipython",
    "version": 3
   },
   "file_extension": ".py",
   "mimetype": "text/x-python",
   "name": "python",
   "nbconvert_exporter": "python",
   "pygments_lexer": "ipython3",
   "version": "3.7.4"
  }
 },
 "nbformat": 4,
 "nbformat_minor": 2
}
